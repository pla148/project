{
 "cells": [
  {
   "cell_type": "code",
   "execution_count": 4,
   "metadata": {},
   "outputs": [],
   "source": [
    "import requests\n",
    "from bs4 import BeautifulSoup\n",
    "import csv\n",
    "\n",
    "url = \"https://hasaki.vn/danh-muc/trang-diem-moi-c24.html?\"\n",
    "response = requests.get(url)\n",
    "soup = BeautifulSoup(response.text, \"html.parser\")\n",
    "\n",
    "# Find all lipstick product elements\n",
    "lipstick_elements = soup.find_all(\"div\", class_=\"item_sp_hasaki width_common relative\")\n",
    "\n",
    "# Extract information for each lipstick\n",
    "lipstick_data = []\n",
    "for lipstick_element in lipstick_elements:\n",
    "    price = lipstick_element.find(\"strong\", class_=\"item_giamoi txt_16\").text.strip().replace('₫', ''). replace('.', '')\n",
    "    discourt_percentage = lipstick_element.find(\"span\", class_=\"discount_percent2_deal\").text.strip()\n",
    "    old_price = lipstick_element.find(\"span\", class_=\"item_giacu txt_12 right\").text.strip().replace('₫', '').replace('.', '')\n",
    "    brand_name = lipstick_element.find(\"div\", class_=\"width_common txt_color_1 space_bottom_3\").text.strip()\n",
    "    lipstick_desciption = lipstick_element.find(\"div\", class_=\"vn_names\")\n",
    "    lip_type = lipstick_element.find(\"div\", class_=\"en_names\")\n",
    "    lipstick_data.append([price, discourt_percentage, old_price, brand_name, lipstick_desciption, lip_type])\n",
    "\n",
    "# Write the extracted data to a CSV file\n",
    "with open(\"lipstick_data.csv\", \"w\", newline=\"\", encoding=\"utf-8\") as csvfile:\n",
    "    csvwriter = csv.writer(csvfile)\n",
    "    csvwriter.writerow([\"Price\", \"Discourt_percentage\", \"Old_price\", \"Brand_name\", \"Lipstick_desciption\", \"Lip_type\"])\n",
    "    csvwriter.writerows(lipstick_data)"
   ]
  }
 ],
 "metadata": {
  "kernelspec": {
   "display_name": "base",
   "language": "python",
   "name": "python3"
  },
  "language_info": {
   "codemirror_mode": {
    "name": "ipython",
    "version": 3
   },
   "file_extension": ".py",
   "mimetype": "text/x-python",
   "name": "python",
   "nbconvert_exporter": "python",
   "pygments_lexer": "ipython3",
   "version": "3.11.4"
  }
 },
 "nbformat": 4,
 "nbformat_minor": 2
}
